{
 "cells": [
  {
   "cell_type": "code",
   "execution_count": 2,
   "metadata": {},
   "outputs": [
    {
     "name": "stdout",
     "output_type": "stream",
     "text": [
      "516 [[479 319]] [[478 320]]\n",
      "maxx = 1299, minx = 466\n",
      "maxy = 320, miny = 319\n"
     ]
    }
   ],
   "source": [
    "import cv2\n",
    "import numpy as np\n",
    "\n",
    "# 读取输入图像\n",
    "image = cv2.imread('Testset/Test9.png')\n",
    "\n",
    "# 转换为灰度图像\n",
    "gray = cv2.cvtColor(image, cv2.COLOR_BGR2GRAY)\n",
    "\n",
    "# 边缘检测\n",
    "edges = cv2.Canny(gray, 50, 150, apertureSize=7)\n",
    "\n",
    "# 轮廓检测\n",
    "contours, _ = cv2.findContours(edges, cv2.RETR_EXTERNAL, cv2.CHAIN_APPROX_SIMPLE)\n",
    "\n",
    "# 筛选最外层的轮廓\n",
    "outer_contour = max(contours, key=cv2.contourArea)\n",
    "print(len(outer_contour), outer_contour[0], outer_contour[1])\n",
    "\n",
    "maxx, minx = 0, 999\n",
    "maxy, miny = 0, 999\n",
    "for c in outer_contour:\n",
    "    if (c[0][0] > maxx): maxx = c[0][0]\n",
    "    if (c[0][0] < minx): minx = c[0][0]\n",
    "    \n",
    "    if (c[0][0] > maxy): maxy = c[0][1]\n",
    "    if (c[0][1] < miny): miny = c[0][1]\n",
    "print('maxx = %d, minx = %d'%(maxx, minx))\n",
    "print('maxy = %d, miny = %d'%(maxy, miny))\n",
    "\n",
    "# 多边形逼近\n",
    "epsilon = 0.02 * cv2.arcLength(outer_contour, True)\n",
    "approx = cv2.approxPolyDP(outer_contour, epsilon, True)\n",
    "\n",
    "# 绘制外边框\n",
    "cv2.drawContours(image, [approx], -1, (0, 255, 0), 2)\n",
    "# cv2.rectangle(image, (minx, miny), (maxx, maxy), (0, 255,0))\n",
    "\n",
    "# 显示结果\n",
    "cv2.namedWindow('Game Board Contour', cv2.WINDOW_NORMAL)\n",
    "cv2.imshow('Game Board Contour', image)\n",
    "cv2.waitKey(0)\n",
    "cv2.destroyAllWindows()\n"
   ]
  },
  {
   "cell_type": "markdown",
   "metadata": {},
   "source": []
  }
 ],
 "metadata": {
  "kernelspec": {
   "display_name": "jupyter",
   "language": "python",
   "name": "python3"
  },
  "language_info": {
   "codemirror_mode": {
    "name": "ipython",
    "version": 3
   },
   "file_extension": ".py",
   "mimetype": "text/x-python",
   "name": "python",
   "nbconvert_exporter": "python",
   "pygments_lexer": "ipython3",
   "version": "3.7.12"
  }
 },
 "nbformat": 4,
 "nbformat_minor": 2
}
