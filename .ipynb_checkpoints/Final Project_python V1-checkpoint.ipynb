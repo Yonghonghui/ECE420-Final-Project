{
 "cells": [
  {
   "cell_type": "code",
   "execution_count": 1,
   "id": "245b89bc",
   "metadata": {},
   "outputs": [],
   "source": [
    "######################## Modified  Tmeplate Matching ##################################"
   ]
  },
  {
   "cell_type": "code",
   "execution_count": 69,
   "id": "c1f54022",
   "metadata": {},
   "outputs": [],
   "source": [
    "import matplotlib.pyplot as plt\n",
    "import cv2\n",
    "import numpy as np\n",
    "from scipy.signal import convolve2d\n",
    "import os\n"
   ]
  },
  {
   "cell_type": "code",
   "execution_count": 70,
   "id": "19d44d23",
   "metadata": {},
   "outputs": [],
   "source": [
    "ScreenList = []\n",
    "\n",
    "num = 2\n",
    "while (num <= 2048):\n",
    "    path = 'ImgLib/template_%d.png'%num\n",
    "    gray_img = cv2.imread(path, cv2.IMREAD_GRAYSCALE)\n",
    "    # cv2.imshow('Grayscale Image', gray_img)\n",
    "    # cv2.waitKey(0)\n",
    "    # cv2.destroyAllWindows()\n",
    "    ScreenList.append((num, gray_img))\n",
    "    if (num == 0): num += 1\n",
    "    num *= 2 "
   ]
  },
  {
   "cell_type": "code",
   "execution_count": 71,
   "id": "fd32c069",
   "metadata": {},
   "outputs": [],
   "source": [
    "############# Template Matching ##################\n",
    "\n",
    "############### Library Function ##############\n",
    "def match_template(image, template):\n",
    "    result = cv2.matchTemplate(image, template, cv2.TM_CCOEFF_NORMED)\n",
    "    _, max_val, _, max_loc = cv2.minMaxLoc(result)\n",
    "    return max_val, max_loc\n",
    "\n",
    "\n",
    "###############  From Scratch    ################\n",
    "\n",
    "\n",
    "# def match_template(image, template):\n",
    "#     # Get dimensions of the image and template\n",
    "#     ih, iw = image.shape\n",
    "#     th, tw = template.shape\n",
    "\n",
    "#     # Compute mean of the template and image\n",
    "#     template_mean = np.mean(template)\n",
    "#     image_mean = np.mean(image)\n",
    "\n",
    "#     # Initialize result matrix\n",
    "#     result = np.zeros((ih - th + 1, iw - tw + 1))\n",
    "\n",
    "#     # Iterate over possible positions\n",
    "#     for y in range(ih - th + 1):\n",
    "#         for x in range(iw - tw + 1):\n",
    "#             # Extract region of interest from image\n",
    "#             roi = image[y:y+th, x:x+tw]\n",
    "\n",
    "#             # Compute mean of the ROI\n",
    "#             roi_mean = np.mean(roi)\n",
    "\n",
    "#             # Compute correlation coefficient\n",
    "#             numerator = np.sum((template - template_mean) * (roi - roi_mean))\n",
    "#             denominator = np.sqrt(np.sum((template - template_mean) ** 2) * np.sum((roi - roi_mean) ** 2))\n",
    "#             result[y, x] = numerator / denominator\n",
    "\n",
    "#     # Get maximum correlation value and its location\n",
    "#     max_val = np.max(result)\n",
    "#     max_loc = np.unravel_index(np.argmax(result), result.shape)\n",
    "\n",
    "#     return max_val, max_loc\n"
   ]
  },
  {
   "cell_type": "code",
   "execution_count": 72,
   "id": "efea0973",
   "metadata": {},
   "outputs": [],
   "source": [
    "def recognize(img, templates):\n",
    "    results = []\n",
    "    for value, template in templates:\n",
    "        max_val, max_loc = match_template(img, template)\n",
    "        results.append((value, max_val, max_loc))\n",
    "\n",
    "    best_match = max(results, key=lambda x: x[1])\n",
    "    best_value, max_val, best_loc = best_match\n",
    "    print('max_val = %  .2f pattern = %d'%(max_val, best_value))\n",
    "    if (max_val < 0.6): return 0\n",
    "    return int(best_value)"
   ]
  },
  {
   "cell_type": "code",
   "execution_count": 78,
   "id": "557b5d4b",
   "metadata": {},
   "outputs": [
    {
     "name": "stdout",
     "output_type": "stream",
     "text": [
      "max_val =  0.89 pattern = 4\n",
      "max_val =  0.82 pattern = 2\n",
      "max_val =  0.42 pattern = 8\n",
      "max_val =  0.41 pattern = 64\n",
      "max_val =  0.84 pattern = 8\n",
      "max_val =  0.88 pattern = 4\n",
      "max_val =  0.83 pattern = 2\n",
      "max_val =  0.37 pattern = 64\n",
      "max_val =  0.80 pattern = 16\n",
      "max_val =  0.77 pattern = 32\n",
      "max_val =  0.83 pattern = 2\n",
      "max_val =  0.77 pattern = 16\n",
      "max_val =  0.89 pattern = 4\n",
      "max_val =  0.85 pattern = 2\n",
      "max_val =  0.83 pattern = 8\n",
      "max_val =  0.85 pattern = 2\n",
      "[[ 4  2  0  0]\n",
      " [ 8  4  2  0]\n",
      " [16 32  2 16]\n",
      " [ 4  2  8  2]]\n"
     ]
    }
   ],
   "source": [
    "# Directory to save images\n",
    "output_dir = 'ImgLib'\n",
    "\n",
    "HEIGHT = WIDTH = 150\n",
    "def Handle_test(timg):\n",
    "    Matrix = np.zeros((4, 4), dtype=int)\n",
    "    img = cv2.resize(timg, (600, 600))\n",
    "    for row in range(4):\n",
    "        for col in range(4):\n",
    "            resized_img = img[row * HEIGHT: (row + 1) * HEIGHT, col * WIDTH: (col + 1) * WIDTH]\n",
    "            # cv2.imwrite('resized.jpg', resized_img)\n",
    "            gray_img = cv2.cvtColor(resized_img, cv2.COLOR_BGR2GRAY)\n",
    "#             cv2.imshow('Output Image', gray_img)\n",
    "#             cv2.waitKey(0)\n",
    "#             cv2.destroyAllWindows()\n",
    "\n",
    "#              Generate a unique filename for each image\n",
    "#             filename = os.path.join(output_dir, f'output_image_{row}_{col}.jpg')\n",
    "#             # Write the image to the file\n",
    "#             cv2.imwrite(filename, gray_img)\n",
    "            \n",
    "            Matrix[row][col] = recognize(gray_img, ScreenList)\n",
    "    return Matrix\n",
    "\n",
    "# for i in range(1, 8):\n",
    "path = 'test_img/newtest6.jpg'\n",
    "timg = cv2.imread(path)\n",
    "print(Handle_test(timg))\n"
   ]
  },
  {
   "cell_type": "code",
   "execution_count": 61,
   "id": "6c39f26f",
   "metadata": {},
   "outputs": [],
   "source": [
    "\n",
    "###################### reszie image ##################\n",
    "import cv2\n",
    "\n",
    "# Read the image\n",
    "image = cv2.imread(\"ImgLib/template_0.jpg\")\n",
    "\n",
    "# Resize the image to 100x100 pixels\n",
    "resized_image = cv2.resize(image, (80, 80))\n",
    "\n",
    "cv2.imwrite(\"ImgLib/template_0.jpg\",resized_image)\n",
    "# Display the resized image\n",
    "cv2.imshow('Resized Image', resized_image)\n",
    "cv2.waitKey(0)\n",
    "cv2.destroyAllWindows()\n"
   ]
  },
  {
   "cell_type": "code",
   "execution_count": null,
   "id": "2479c46a",
   "metadata": {},
   "outputs": [],
   "source": []
  }
 ],
 "metadata": {
  "kernelspec": {
   "display_name": "Python 3 (ipykernel)",
   "language": "python",
   "name": "python3"
  },
  "language_info": {
   "codemirror_mode": {
    "name": "ipython",
    "version": 3
   },
   "file_extension": ".py",
   "mimetype": "text/x-python",
   "name": "python",
   "nbconvert_exporter": "python",
   "pygments_lexer": "ipython3",
   "version": "3.7.16"
  }
 },
 "nbformat": 4,
 "nbformat_minor": 5
}
