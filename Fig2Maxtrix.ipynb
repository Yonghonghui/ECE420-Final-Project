{
 "cells": [
  {
   "cell_type": "code",
   "execution_count": 1,
   "metadata": {},
   "outputs": [],
   "source": [
    "import matplotlib.pyplot as plt\n",
    "import cv2\n",
    "import numpy as np\n",
    "ScreenList = []\n",
    "\n",
    "num = 2\n",
    "while (num <= 2048):\n",
    "    path = 'ImgLib/Gray%d.png'%num\n",
    "    gray_img = cv2.imread(path, cv2.IMREAD_GRAYSCALE)\n",
    "    # cv2.imshow('Grayscale Image', gray_img)\n",
    "    # cv2.waitKey(0)\n",
    "    # cv2.destroyAllWindows()\n",
    "    ScreenList.append((num, gray_img))\n",
    "    if (num == 0): num += 1\n",
    "    num *= 2"
   ]
  },
  {
   "cell_type": "code",
   "execution_count": 3,
   "metadata": {},
   "outputs": [
    {
     "name": "stdout",
     "output_type": "stream",
     "text": [
      "[[   0    2   16    2]\n",
      " [   2   32   16    2]\n",
      " [   0    2 2048    2]\n",
      " [   0    0    2 1024]]\n"
     ]
    }
   ],
   "source": [
    "def match_template(image, template):\n",
    "    result = cv2.matchTemplate(image, template, cv2.TM_CCOEFF_NORMED)\n",
    "    _, max_val, _, max_loc = cv2.minMaxLoc(result)\n",
    "    return max_val, max_loc\n",
    "\n",
    "def recognize(img, templates):\n",
    "    results = []\n",
    "    for value, template in templates:\n",
    "        max_val, max_loc = match_template(img, template)\n",
    "        results.append((value, max_val, max_loc))\n",
    "\n",
    "    best_match = max(results, key=lambda x: x[1])\n",
    "    best_value, max_val, best_loc = best_match\n",
    "    # print('max_val = %  .2f pattern = %d'%(max_val, best_value))\n",
    "    if (max_val < 0.5): return 0\n",
    "    return int(best_value)\n",
    "\n",
    "HEIGHT = WIDTH = 150\n",
    "def Handle_test(timg):\n",
    "    Matrix = np.zeros((4, 4), dtype=int)\n",
    "    img = cv2.resize(timg, (600, 600))\n",
    "    for row in range(4):\n",
    "        for col in range(4):\n",
    "            resized_img = img[row * HEIGHT: (row + 1) * HEIGHT, col * WIDTH: (col + 1) * WIDTH]\n",
    "            # cv2.imwrite('resized.jpg', resized_img)\n",
    "            gray_img = cv2.cvtColor(resized_img, cv2.COLOR_BGR2GRAY)\n",
    "            # cv2.imwrite('gray_image.jpg', gray_img)\n",
    "            # cv2.imshow('Grayscale Image', gray_img)\n",
    "            # cv2.waitKey(0)\n",
    "            # cv2.destroyAllWindows()\n",
    "            Matrix[row][col] = recognize(gray_img, ScreenList)\n",
    "    return Matrix\n",
    "\n",
    "# for i in range(1, 8):\n",
    "path = 'Testset/Test7.png'\n",
    "timg = cv2.imread(path)\n",
    "print(Handle_test(timg))\n"
   ]
  },
  {
   "cell_type": "code",
   "execution_count": null,
   "metadata": {},
   "outputs": [],
   "source": []
  }
 ],
 "metadata": {
  "kernelspec": {
   "display_name": "jupyter",
   "language": "python",
   "name": "python3"
  },
  "language_info": {
   "codemirror_mode": {
    "name": "ipython",
    "version": 3
   },
   "file_extension": ".py",
   "mimetype": "text/x-python",
   "name": "python",
   "nbconvert_exporter": "python",
   "pygments_lexer": "ipython3",
   "version": "3.7.12"
  }
 },
 "nbformat": 4,
 "nbformat_minor": 2
}
